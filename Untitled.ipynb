{
 "cells": [
  {
   "cell_type": "code",
   "execution_count": 1,
   "id": "fc5ddf66",
   "metadata": {},
   "outputs": [],
   "source": [
    "import pandas as pd\n",
    "import numpy as np"
   ]
  },
  {
   "cell_type": "code",
   "execution_count": 2,
   "id": "27a99725",
   "metadata": {},
   "outputs": [],
   "source": [
    "matriz=np.loadtxt('distancias.txt')"
   ]
  },
  {
   "cell_type": "code",
   "execution_count": 3,
   "id": "39abadd6",
   "metadata": {},
   "outputs": [
    {
     "data": {
      "text/plain": [
       "array([[0.     , 2.941  , 1.8    , 3.0413 ],\n",
       "       [2.941  , 0.     , 2.941  , 3.8626 ],\n",
       "       [1.8    , 2.941  , 0.     , 4.71274],\n",
       "       [3.0413 , 3.8626 , 4.71274, 0.     ]])"
      ]
     },
     "execution_count": 3,
     "metadata": {},
     "output_type": "execute_result"
    }
   ],
   "source": [
    "matriz"
   ]
  },
  {
   "cell_type": "code",
   "execution_count": 4,
   "id": "c936ff68",
   "metadata": {},
   "outputs": [],
   "source": [
    "from Indutancia import *"
   ]
  },
  {
   "cell_type": "code",
   "execution_count": 5,
   "id": "37a3eab0",
   "metadata": {},
   "outputs": [],
   "source": [
    "df=pd.read_csv('data.csv')"
   ]
  },
  {
   "cell_type": "code",
   "execution_count": 27,
   "id": "a94808b5",
   "metadata": {},
   "outputs": [
    {
     "data": {
      "text/plain": [
       "13.0"
      ]
     },
     "execution_count": 27,
     "metadata": {},
     "output_type": "execute_result"
    }
   ],
   "source": [
    "11.95+0.7*1.5"
   ]
  },
  {
   "cell_type": "code",
   "execution_count": 7,
   "id": "1e6e6080",
   "metadata": {},
   "outputs": [],
   "source": [
    "lista_fios=[]"
   ]
  },
  {
   "cell_type": "code",
   "execution_count": 8,
   "id": "e009aac9",
   "metadata": {},
   "outputs": [],
   "source": [
    "for i in range(len(df.index)):\n",
    "    lista_fios.append(Wire(df.at[i, 'Height'], df.at[i, 'raio'], 60, df.at[i, 'Flexa'], df.at[i, 'Ds']))"
   ]
  },
  {
   "cell_type": "code",
   "execution_count": 9,
   "id": "2d5ad031",
   "metadata": {},
   "outputs": [
    {
     "data": {
      "text/plain": [
       "[<Indutancia.Wire at 0x18e794b0880>,\n",
       " <Indutancia.Wire at 0x18e794b07f0>,\n",
       " <Indutancia.Wire at 0x18e794b07c0>,\n",
       " <Indutancia.Wire at 0x18e794b0790>]"
      ]
     },
     "execution_count": 9,
     "metadata": {},
     "output_type": "execute_result"
    }
   ],
   "source": [
    "lista_fios"
   ]
  },
  {
   "cell_type": "code",
   "execution_count": 10,
   "id": "b80e14b4",
   "metadata": {},
   "outputs": [],
   "source": [
    "fios=WireMatrix(lista_fios, matriz)"
   ]
  },
  {
   "cell_type": "code",
   "execution_count": 11,
   "id": "73bbc086",
   "metadata": {},
   "outputs": [
    {
     "name": "stdout",
     "output_type": "stream",
     "text": [
      "[[ 0.         17.82132097 16.7        21.24616449]\n",
      " [17.82132097  0.         16.04616717 20.3482107 ]\n",
      " [16.7        16.04616717  0.         19.45044777]\n",
      " [21.24616449 20.3482107  19.45044777  0.        ]]\n",
      "Matriz f \n",
      " [[0.00167239 0.00036033 0.00044552 0.00038878]\n",
      " [0.00036033 0.0016541  0.00033934 0.00033233]\n",
      " [0.00044552 0.00033934 0.00163397 0.00028352]\n",
      " [0.00038878 0.00033233 0.00028352 0.00205491]]\n",
      "Matriz reduzida \n",
      " [[0.00159883 0.00029745 0.00039188]\n",
      " [0.00029745 0.00160035 0.00029349]\n",
      " [0.00039188 0.00029349 0.00159485]]\n"
     ]
    },
    {
     "data": {
      "text/plain": [
       "0.0012704030940032557"
      ]
     },
     "execution_count": 11,
     "metadata": {},
     "output_type": "execute_result"
    }
   ],
   "source": [
    "fios.ThreePhaseInductanceforLighting()"
   ]
  },
  {
   "cell_type": "code",
   "execution_count": 12,
   "id": "0bf4fd76",
   "metadata": {},
   "outputs": [
    {
     "name": "stdout",
     "output_type": "stream",
     "text": [
      "[[ 0.         17.82132097 16.7        21.24616449]\n",
      " [17.82132097  0.         16.04616717 20.3482107 ]\n",
      " [16.7        16.04616717  0.         19.45044777]\n",
      " [21.24616449 20.3482107  19.45044777  0.        ]]\n",
      "Matriz f \n",
      " [[ 0.00106733 -0.00021575 -0.00011756 -0.00022246]\n",
      " [-0.00021575  0.00106733 -0.00021575 -0.00027027]\n",
      " [-0.00011756 -0.00021575  0.00106733 -0.00031005]\n",
      " [-0.00022246 -0.00027027 -0.00031005  0.00140329]]\n",
      "Matriz reduzida \n",
      " [[ 0.00103206 -0.00025859 -0.00016671]\n",
      " [-0.00025859  0.00101528 -0.00027547]\n",
      " [-0.00016671 -0.00027547  0.00099882]]\n"
     ]
    },
    {
     "data": {
      "text/plain": [
       "0.0012489767336522693"
      ]
     },
     "execution_count": 12,
     "metadata": {},
     "output_type": "execute_result"
    }
   ],
   "source": [
    "fios.ThreePhaseInductanceforLightingWithoutGround()"
   ]
  },
  {
   "cell_type": "code",
   "execution_count": 22,
   "id": "b3397e4b",
   "metadata": {},
   "outputs": [
    {
     "data": {
      "text/plain": [
       "-0.01574803149606286"
      ]
     },
     "execution_count": 22,
     "metadata": {},
     "output_type": "execute_result"
    }
   ],
   "source": [
    "(0.00127-0.00129)/0.00127"
   ]
  },
  {
   "cell_type": "code",
   "execution_count": 14,
   "id": "39dc045e",
   "metadata": {},
   "outputs": [
    {
     "data": {
      "text/plain": [
       "2.941"
      ]
     },
     "execution_count": 14,
     "metadata": {},
     "output_type": "execute_result"
    }
   ],
   "source": [
    "fios.dist_matrix[1,2]"
   ]
  },
  {
   "cell_type": "code",
   "execution_count": 15,
   "id": "f7d5b6ab",
   "metadata": {},
   "outputs": [],
   "source": [
    "x = np.linspace(0.00127*(1-0.3), 0.00127*(1+0.3),1000)"
   ]
  },
  {
   "cell_type": "code",
   "execution_count": 16,
   "id": "a5ed615c",
   "metadata": {},
   "outputs": [],
   "source": [
    "xkm = (np.zeros((1,len(x))))"
   ]
  },
  {
   "cell_type": "code",
   "execution_count": 17,
   "id": "89a23ba7",
   "metadata": {},
   "outputs": [
    {
     "data": {
      "image/png": "[encoded data removed]",
      "text/plain": [
       "<Figure size 640x480 with 1 Axes>"
      ]
     },
     "metadata": {},
     "output_type": "display_data"
    }
   ],
   "source": [
    "fios.PlotBizuradoGuarni(0.2)"
   ]
  },
  {
   "cell_type": "code",
   "execution_count": 18,
   "id": "cea84ada",
   "metadata": {},
   "outputs": [
    {
     "ename": "IndexError",
     "evalue": "index 4 is out of bounds for axis 0 with size 4",
     "output_type": "error",
     "traceback": [
      "\u001b[1;31m---------------------------------------------------------------------------\u001b[0m",
      "\u001b[1;31mIndexError\u001b[0m                                Traceback (most recent call last)",
      "Cell \u001b[1;32mIn[18], line 2\u001b[0m\n\u001b[0;32m      1\u001b[0m \u001b[38;5;28;01mfor\u001b[39;00m i \u001b[38;5;129;01min\u001b[39;00m \u001b[38;5;28mrange\u001b[39m(\u001b[38;5;28mlen\u001b[39m(x)):\n\u001b[1;32m----> 2\u001b[0m     xkm[i]\u001b[38;5;241m=\u001b[39m\u001b[43mfios\u001b[49m\u001b[38;5;241;43m.\u001b[39;49m\u001b[43mThreeConductorsMonophaseInductance\u001b[49m\u001b[43m(\u001b[49m\u001b[43m)\u001b[49m\n\u001b[0;32m      3\u001b[0m     P[i] \u001b[38;5;241m=\u001b[39m \u001b[38;5;241m1\u001b[39m\u001b[38;5;241m/\u001b[39mxkm(i)\n",
      "File \u001b[1;32m~\\Documents\\ime\\distribuicao\\Indutancia.py:65\u001b[0m, in \u001b[0;36mWireMatrix.ThreeConductorsMonophaseInductance\u001b[1;34m(self)\u001b[0m\n\u001b[0;32m     63\u001b[0m d21\u001b[38;5;241m=\u001b[39m\u001b[38;5;28mself\u001b[39m\u001b[38;5;241m.\u001b[39mdist_matrix[\u001b[38;5;241m2\u001b[39m,\u001b[38;5;241m1\u001b[39m]\n\u001b[0;32m     64\u001b[0m d2\u001b[38;5;241m=\u001b[39m\u001b[38;5;28mself\u001b[39m\u001b[38;5;241m.\u001b[39mdist_matrix[\u001b[38;5;241m2\u001b[39m,\u001b[38;5;241m3\u001b[39m]\n\u001b[1;32m---> 65\u001b[0m d41\u001b[38;5;241m=\u001b[39m\u001b[38;5;28;43mself\u001b[39;49m\u001b[38;5;241;43m.\u001b[39;49m\u001b[43mdist_matrix\u001b[49m\u001b[43m[\u001b[49m\u001b[38;5;241;43m4\u001b[39;49m\u001b[43m,\u001b[49m\u001b[38;5;241;43m1\u001b[39;49m\u001b[43m]\u001b[49m\n\u001b[0;32m     66\u001b[0m d43\u001b[38;5;241m=\u001b[39m\u001b[38;5;28mself\u001b[39m\u001b[38;5;241m.\u001b[39mdist_matrix[\u001b[38;5;241m4\u001b[39m,\u001b[38;5;241m3\u001b[39m]\n\u001b[0;32m     67\u001b[0m freq\u001b[38;5;241m=\u001b[39m\u001b[38;5;28mself\u001b[39m\u001b[38;5;241m.\u001b[39mwires[\u001b[38;5;241m0\u001b[39m]\u001b[38;5;241m.\u001b[39mf\n",
      "\u001b[1;31mIndexError\u001b[0m: index 4 is out of bounds for axis 0 with size 4"
     ]
    }
   ],
   "source": [
    "for i in range(len(x)):\n",
    "    xkm[i]=fios.ThreeConductorsMonophaseInductance()\n",
    "    P[i] = 1/xkm(i);"
   ]
  },
  {
   "cell_type": "code",
   "execution_count": null,
   "id": "dbcec531",
   "metadata": {},
   "outputs": [],
   "source": [
    "import numpy as np\n",
    "np.zeros(500)"
   ]
  },
  {
   "cell_type": "code",
   "execution_count": null,
   "id": "a66fab3b",
   "metadata": {},
   "outputs": [],
   "source": [
    "test=np.zeros(500)"
   ]
  },
  {
   "cell_type": "code",
   "execution_count": null,
   "id": "0a660685",
   "metadata": {},
   "outputs": [],
   "source": [
    "test[5]"
   ]
  },
  {
   "cell_type": "markdown",
   "id": "1e121cf0",
   "metadata": {},
   "source": [
    "As estuturos de linhos de transmisão serveu para suporte\n",
    "das condutores e calos pro - raios, mantendo uma distância\n",
    "minima entre condutous e o solo.\n",
    "Os materiais mais utilizados são\n",
    ".\n",
    "aço\n",
    ".concuto\n",
    "• madeira\n",
    "• felhos de video\n",
    "(D\n",
    "Em relação à disporição das LT e aplicações, tros:\n",
    ".Disposição horizontal: 19 230 /345/ 500/765 KV\n",
    "ditichaução primóra: 13,8/34,5 KV\n",
    "Disposicao vertical:\n",
    ".dithuas secundaria:220/127 V\n",
    ". circito simples : 138KV\n",
    "cinaito duplo : 138KV\n",
    "• Disposição Triangular\n",
    ": .\n",
    "ckt simples: 138KV\n",
    "\n",
    "\n",
    "E infortante sensaltar que as\n",
    "LT acima\n",
    "de 300 kv\n",
    "condutores geminados\n",
    "nomalmente, com o olfetivo\n",
    "reduzir os impados do efeito\n",
    "corona\n",
    "( Quai\n",
    "s as material\n",
    "atilizado, temos:\n",
    ".madeia:\n",
    "normo\n",
    "neste tilzados para linhos\n",
    "o de baixa\n",
    "tesão\n",
    "e, eu algues cosos, em média\n",
    "- teusão, Possuem\n",
    "beire\n",
    "pero e preço, em comporação\n",
    "Com\n",
    "estrutu\n",
    "tuas de afo\n",
    "e de couret\n",
    "Ato, prée poncem\n",
    "menor bida\n",
    "- atel;\n",
    "• concuto:\n",
    "é o tipo de stutua mais atiles\n",
    "lezado em redes\n",
    "de baixa\n",
    "Tesão\n",
    "retalies(Aço): e o matrial mais uttligada atrabate\n",
    "pera a fabricação de temes de transminão desido à filadado\n",
    "de tronsporte\n",
    "• e monbgen\n",
    ". É utilizado\n",
    "principalme\n",
    "mete em\n",
    "tones de m\n",
    "rédian\n",
    "e alto ter\n",
    "usão"
   ]
  },
  {
   "cell_type": "code",
   "execution_count": null,
   "id": "fd71ac65",
   "metadata": {},
   "outputs": [],
   "source": [
    "np.sqrt(4.8**2+10**2)"
   ]
  },
  {
   "cell_type": "code",
   "execution_count": null,
   "id": "26927cc1",
   "metadata": {},
   "outputs": [],
   "source": [
    "print(3.54461*10**(-9))"
   ]
  },
  {
   "cell_type": "code",
   "execution_count": null,
   "id": "e345629d",
   "metadata": {},
   "outputs": [],
   "source": []
  }
 ],
 "metadata": {
  "kernelspec": {
   "display_name": "Python 3 (ipykernel)",
   "language": "python",
   "name": "python3"
  },
  "language_info": {
   "codemirror_mode": {
    "name": "ipython",
    "version": 3
   },
   "file_extension": ".py",
   "mimetype": "text/x-python",
   "name": "python",
   "nbconvert_exporter": "python",
   "pygments_lexer": "ipython3",
   "version": "3.10.9"
  }
 },
 "nbformat": 4,
 "nbformat_minor": 5
}
